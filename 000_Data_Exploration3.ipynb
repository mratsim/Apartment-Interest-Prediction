{
 "cells": [
  {
   "cell_type": "code",
   "execution_count": 1,
   "metadata": {
    "ExecuteTime": {
     "end_time": "2017-03-09T21:17:02.020211",
     "start_time": "2017-03-09T21:17:01.786799"
    },
    "collapsed": true
   },
   "outputs": [],
   "source": [
    "import numpy as np\n",
    "import pandas as pd"
   ]
  },
  {
   "cell_type": "code",
   "execution_count": 2,
   "metadata": {
    "ExecuteTime": {
     "end_time": "2017-03-09T21:17:04.211487",
     "start_time": "2017-03-09T21:17:02.158166"
    },
    "collapsed": true
   },
   "outputs": [],
   "source": [
    "train = pd.read_json(open(\"./data/train.json\", \"r\"))\n",
    "test = pd.read_json(open(\"./data/test.json\", \"r\"))"
   ]
  },
  {
   "cell_type": "code",
   "execution_count": 28,
   "metadata": {
    "ExecuteTime": {
     "end_time": "2017-03-09T19:49:04.160616",
     "start_time": "2017-03-09T19:49:04.152521"
    },
    "collapsed": false
   },
   "outputs": [
    {
     "name": "stdout",
     "output_type": "stream",
     "text": [
      "10        [https://photos.renthop.com/2/7211212_1ed4542e...\n",
      "10000     [https://photos.renthop.com/2/7150865_be3306c5...\n",
      "100004    [https://photos.renthop.com/2/6887163_de85c427...\n",
      "100007    [https://photos.renthop.com/2/6888711_6e660cee...\n",
      "100013    [https://photos.renthop.com/2/6934781_1fa4b41a...\n",
      "100014    [https://photos.renthop.com/2/6894514_9abb8592...\n",
      "100016    [https://photos.renthop.com/2/6930771_7e3622b6...\n",
      "100020    [https://photos.renthop.com/2/6867392_b18283f6...\n",
      "100026    [https://photos.renthop.com/2/6898799_3759be4c...\n",
      "100027    [https://photos.renthop.com/2/6814332_e19a8552...\n",
      "100030    [https://photos.renthop.com/2/6869199_06b2601f...\n",
      "10004     [https://photos.renthop.com/2/7102986_ca6af538...\n",
      "100044    [https://photos.renthop.com/2/6895442_34d617a5...\n",
      "100048    [https://photos.renthop.com/2/6846213_83258754...\n",
      "10005     [https://photos.renthop.com/2/7089402_66038eaa...\n",
      "100051    [https://photos.renthop.com/2/6889043_a3e1c004...\n",
      "100052    [https://photos.renthop.com/2/6913348_829f19ac...\n",
      "100053    [https://photos.renthop.com/2/6894111_571fa57d...\n",
      "100055                                                   []\n",
      "100058    [https://photos.renthop.com/2/6848536_9a3e1f87...\n",
      "100062    [https://photos.renthop.com/2/6858062_5cfb9d90...\n",
      "100063    [https://photos.renthop.com/2/6836760_6edeb636...\n",
      "100065                                                   []\n",
      "100066    [https://photos.renthop.com/2/6885927_3eb33bbc...\n",
      "10007     [https://photos.renthop.com/2/7120132_8e47916c...\n",
      "100071    [https://photos.renthop.com/2/6933499_53ad35f0...\n",
      "100075    [https://photos.renthop.com/2/6921632_563cdcee...\n",
      "100076    [https://photos.renthop.com/2/6913084_e1aef7e1...\n",
      "100079    [https://photos.renthop.com/2/6907079_2cc12101...\n",
      "100081    [https://photos.renthop.com/2/6925264_59f5dc7a...\n",
      "                                ...                        \n",
      "99915     [https://photos.renthop.com/2/6921019_05091585...\n",
      "99917     [https://photos.renthop.com/2/6926146_f82d7aff...\n",
      "99919     [https://photos.renthop.com/2/6844805_b2a3a213...\n",
      "99921     [https://photos.renthop.com/2/6943991_0a32ffd3...\n",
      "99923     [https://photos.renthop.com/2/6822618_d04c2ece...\n",
      "99924     [https://photos.renthop.com/2/6918969_e88539cc...\n",
      "99931     [https://photos.renthop.com/2/6921162_5d6df102...\n",
      "99933     [https://photos.renthop.com/2/6819357_700208a6...\n",
      "99935     [https://photos.renthop.com/2/6893263_f1f39ce2...\n",
      "99937     [https://photos.renthop.com/2/6873182_babdece5...\n",
      "9994      [https://photos.renthop.com/2/7114685_7b7f598a...\n",
      "99953     [https://photos.renthop.com/2/6924210_27c32e80...\n",
      "99956     [https://photos.renthop.com/2/6884807_158a7214...\n",
      "99960     [https://photos.renthop.com/2/6825168_f94cee7d...\n",
      "99961     [https://photos.renthop.com/2/6911061_25c3f3b1...\n",
      "99964     [https://photos.renthop.com/2/6942494_edcfce0d...\n",
      "99965     [https://photos.renthop.com/2/6819478_832d3d70...\n",
      "99966     [https://photos.renthop.com/2/6878391_59754267...\n",
      "99979                                                    []\n",
      "99980     [https://photos.renthop.com/2/6933865_9bdcae03...\n",
      "99982     [https://photos.renthop.com/2/6837242_3fbdc629...\n",
      "99984     [https://photos.renthop.com/2/6815109_1ec75160...\n",
      "99986     [https://photos.renthop.com/2/6871681_f2e17c12...\n",
      "99987     [https://photos.renthop.com/2/6856001_5d031c59...\n",
      "99988     [https://photos.renthop.com/2/6913833_a5587e14...\n",
      "9999      [https://photos.renthop.com/2/7098690_18396d32...\n",
      "99991     [https://photos.renthop.com/2/6822449_b429587b...\n",
      "99992     [https://photos.renthop.com/2/6881461_20a86530...\n",
      "99993     [https://photos.renthop.com/2/6841891_124c9c44...\n",
      "99994     [https://photos.renthop.com/2/6858245_c4380bde...\n",
      "Name: photos, dtype: object\n"
     ]
    }
   ],
   "source": [
    "print(train['photos'])"
   ]
  },
  {
   "cell_type": "code",
   "execution_count": 7,
   "metadata": {
    "ExecuteTime": {
     "end_time": "2017-03-05T17:40:43.570773",
     "start_time": "2017-03-05T17:40:43.567980"
    },
    "collapsed": false
   },
   "outputs": [],
   "source": [
    "price_series = pd.concat((train['price'], test['price']), axis=0)"
   ]
  },
  {
   "cell_type": "code",
   "execution_count": 12,
   "metadata": {
    "ExecuteTime": {
     "end_time": "2017-03-05T17:45:15.477488",
     "start_time": "2017-03-05T17:45:15.475404"
    },
    "collapsed": true
   },
   "outputs": [],
   "source": [
    "pd.options.display.float_format = '{:20,.2f}'.format"
   ]
  },
  {
   "cell_type": "code",
   "execution_count": 22,
   "metadata": {
    "ExecuteTime": {
     "end_time": "2017-03-05T17:48:12.031367",
     "start_time": "2017-03-05T17:48:11.915037"
    },
    "collapsed": false
   },
   "outputs": [
    {
     "data": {
      "text/plain": [
       "count             124,011.00\n",
       "mean                3,781.32\n",
       "std                15,829.88\n",
       "min                     1.00\n",
       "0%                      1.00\n",
       "1.0%                1,495.00\n",
       "2.0%                1,600.00\n",
       "3.0%                1,695.00\n",
       "4.0%                1,750.00\n",
       "5.1%                1,800.00\n",
       "6.1%                1,850.00\n",
       "7.1%                1,895.00\n",
       "8.1%                1,902.00\n",
       "9.1%                1,975.00\n",
       "10.1%               2,000.00\n",
       "11.1%               2,050.00\n",
       "12.1%               2,100.00\n",
       "13.1%               2,100.00\n",
       "14.1%               2,160.00\n",
       "15.2%               2,200.00\n",
       "16.2%               2,225.00\n",
       "17.2%               2,275.00\n",
       "18.2%               2,300.00\n",
       "19.2%               2,325.00\n",
       "20.2%               2,350.00\n",
       "21.2%               2,395.00\n",
       "22.2%               2,400.00\n",
       "23.2%               2,450.00\n",
       "24.2%               2,475.00\n",
       "25.3%               2,500.00\n",
       "                ...         \n",
       "71.7%               3,925.00\n",
       "72.7%               3,995.00\n",
       "73.7%               4,000.00\n",
       "74.7%               4,095.00\n",
       "75.8%               4,195.00\n",
       "76.8%               4,250.00\n",
       "77.8%               4,308.00\n",
       "78.8%               4,400.00\n",
       "79.8%               4,500.00\n",
       "80.8%               4,575.00\n",
       "81.8%               4,650.00\n",
       "82.8%               4,750.00\n",
       "83.8%               4,895.00\n",
       "84.8%               4,995.00\n",
       "85.9%               5,000.00\n",
       "86.9%               5,200.00\n",
       "87.9%               5,350.00\n",
       "88.9%               5,495.00\n",
       "89.9%               5,600.00\n",
       "90.9%               5,825.00\n",
       "91.9%               6,000.00\n",
       "92.9%               6,200.00\n",
       "93.9%               6,495.00\n",
       "94.9%               6,829.34\n",
       "96.0%               7,300.00\n",
       "97.0%               8,000.00\n",
       "98.0%               9,755.00\n",
       "99.0%              13,000.00\n",
       "100%            4,490,000.00\n",
       "max             4,490,000.00\n",
       "Name: price, dtype: float64"
      ]
     },
     "execution_count": 22,
     "metadata": {},
     "output_type": "execute_result"
    }
   ],
   "source": [
    "price_series.describe(percentiles=np.linspace(0, 1, 100))"
   ]
  },
  {
   "cell_type": "code",
   "execution_count": 19,
   "metadata": {
    "ExecuteTime": {
     "end_time": "2017-03-05T17:46:34.674825",
     "start_time": "2017-03-05T17:46:34.615746"
    },
    "collapsed": false
   },
   "outputs": [
    {
     "data": {
      "text/plain": [
       "count              49,352.00\n",
       "mean                3,830.17\n",
       "std                22,066.87\n",
       "min                    43.00\n",
       "0%                     43.00\n",
       "1.0%                1,475.00\n",
       "2.0%                1,600.00\n",
       "3.0%                1,695.00\n",
       "4.0%                1,750.00\n",
       "5.1%                1,800.00\n",
       "6.1%                1,850.00\n",
       "7.1%                1,899.00\n",
       "8.1%                1,925.00\n",
       "9.1%                1,975.00\n",
       "10.1%               2,000.00\n",
       "11.1%               2,050.00\n",
       "12.1%               2,100.00\n",
       "13.1%               2,125.00\n",
       "14.1%               2,190.00\n",
       "15.2%               2,200.00\n",
       "16.2%               2,250.00\n",
       "17.2%               2,290.00\n",
       "18.2%               2,300.00\n",
       "19.2%               2,325.00\n",
       "20.2%               2,350.00\n",
       "21.2%               2,400.00\n",
       "22.2%               2,400.00\n",
       "23.2%               2,450.00\n",
       "24.2%               2,490.00\n",
       "25.3%               2,500.00\n",
       "                ...         \n",
       "71.7%               3,925.00\n",
       "72.7%               3,995.00\n",
       "73.7%               4,000.00\n",
       "74.7%               4,095.00\n",
       "75.8%               4,195.00\n",
       "76.8%               4,250.00\n",
       "77.8%               4,310.00\n",
       "78.8%               4,400.00\n",
       "79.8%               4,500.00\n",
       "80.8%               4,576.79\n",
       "81.8%               4,670.00\n",
       "82.8%               4,790.00\n",
       "83.8%               4,900.00\n",
       "84.8%               4,995.00\n",
       "85.9%               5,000.00\n",
       "86.9%               5,200.00\n",
       "87.9%               5,350.00\n",
       "88.9%               5,500.00\n",
       "89.9%               5,630.00\n",
       "90.9%               5,850.00\n",
       "91.9%               6,000.00\n",
       "92.9%               6,200.00\n",
       "93.9%               6,495.00\n",
       "94.9%               6,850.00\n",
       "96.0%               7,350.00\n",
       "97.0%               8,000.00\n",
       "98.0%               9,950.00\n",
       "99.0%              13,000.00\n",
       "100%            4,490,000.00\n",
       "max             4,490,000.00\n",
       "Name: price, dtype: float64"
      ]
     },
     "execution_count": 19,
     "metadata": {},
     "output_type": "execute_result"
    }
   ],
   "source": [
    "train['price'].describe(percentiles=np.linspace(0, 1, 100))"
   ]
  },
  {
   "cell_type": "code",
   "execution_count": 20,
   "metadata": {
    "ExecuteTime": {
     "end_time": "2017-03-05T17:47:04.702302",
     "start_time": "2017-03-05T17:47:04.624325"
    },
    "collapsed": false
   },
   "outputs": [
    {
     "data": {
      "text/plain": [
       "count              74,659.00\n",
       "mean                3,749.03\n",
       "std                 9,713.09\n",
       "min                     1.00\n",
       "0%                      1.00\n",
       "1.0%                1,495.00\n",
       "2.0%                1,600.00\n",
       "3.0%                1,695.00\n",
       "4.0%                1,750.00\n",
       "5.1%                1,800.00\n",
       "6.1%                1,850.00\n",
       "7.1%                1,895.00\n",
       "8.1%                1,900.00\n",
       "9.1%                1,965.00\n",
       "10.1%               2,000.00\n",
       "11.1%               2,050.00\n",
       "12.1%               2,099.00\n",
       "13.1%               2,100.00\n",
       "14.1%               2,150.00\n",
       "15.2%               2,200.00\n",
       "16.2%               2,200.00\n",
       "17.2%               2,253.00\n",
       "18.2%               2,300.00\n",
       "19.2%               2,300.00\n",
       "20.2%               2,350.00\n",
       "21.2%               2,395.00\n",
       "22.2%               2,400.00\n",
       "23.2%               2,440.00\n",
       "24.2%               2,466.82\n",
       "25.3%               2,495.00\n",
       "                ...         \n",
       "71.7%               3,930.00\n",
       "72.7%               3,995.00\n",
       "73.7%               4,000.00\n",
       "74.7%               4,100.00\n",
       "75.8%               4,195.00\n",
       "76.8%               4,250.00\n",
       "77.8%               4,308.00\n",
       "78.8%               4,400.00\n",
       "79.8%               4,500.00\n",
       "80.8%               4,569.00\n",
       "81.8%               4,650.00\n",
       "82.8%               4,750.00\n",
       "83.8%               4,887.06\n",
       "84.8%               4,995.00\n",
       "85.9%               5,000.00\n",
       "86.9%               5,200.00\n",
       "87.9%               5,300.00\n",
       "88.9%               5,495.00\n",
       "89.9%               5,600.00\n",
       "90.9%               5,806.82\n",
       "91.9%               6,000.00\n",
       "92.9%               6,200.00\n",
       "93.9%               6,495.00\n",
       "94.9%               6,800.79\n",
       "96.0%               7,277.00\n",
       "97.0%               8,000.00\n",
       "98.0%               9,643.94\n",
       "99.0%              13,000.00\n",
       "100%            1,675,000.00\n",
       "max             1,675,000.00\n",
       "Name: price, dtype: float64"
      ]
     },
     "execution_count": 20,
     "metadata": {},
     "output_type": "execute_result"
    }
   ],
   "source": [
    "test['price'].describe(percentiles=np.linspace(0, 1, 100))"
   ]
  },
  {
   "cell_type": "code",
   "execution_count": 23,
   "metadata": {
    "ExecuteTime": {
     "end_time": "2017-03-05T17:57:27.668114",
     "start_time": "2017-03-05T17:57:27.660170"
    },
    "collapsed": false
   },
   "outputs": [
    {
     "data": {
      "text/plain": [
       "10        3000\n",
       "10000     5465\n",
       "100004    2850\n",
       "100007    3275\n",
       "100013    3350\n",
       "100014    7995\n",
       "100016    3600\n",
       "100020    5645\n",
       "100026    1725\n",
       "100027    5800\n",
       "100030    1950\n",
       "10004     1675\n",
       "100044    3000\n",
       "100048    6895\n",
       "10005     3050\n",
       "100051    2350\n",
       "100052    3650\n",
       "100053    1695\n",
       "100055    5000\n",
       "100058    3973\n",
       "100062    4395\n",
       "100063    2999\n",
       "100065    2595\n",
       "100066    3695\n",
       "10007     7400\n",
       "100071    7500\n",
       "100075    2295\n",
       "100076    3164\n",
       "100079    1350\n",
       "100081    5600\n",
       "          ... \n",
       "99957     2895\n",
       "99958     4200\n",
       "99959     3250\n",
       "9996      2895\n",
       "99962     4500\n",
       "99963     2995\n",
       "99967     5750\n",
       "99968     4495\n",
       "99969     2599\n",
       "9997      2150\n",
       "99970     9000\n",
       "99971     3805\n",
       "99972     4150\n",
       "99973     2500\n",
       "99974     3795\n",
       "99975     6500\n",
       "99976     2500\n",
       "99977     3495\n",
       "99978     3695\n",
       "9998      3025\n",
       "99981     1850\n",
       "99983     3000\n",
       "99985     9500\n",
       "99989     2100\n",
       "99990     4250\n",
       "99995     2000\n",
       "99996     3649\n",
       "99997     2195\n",
       "99998     1775\n",
       "99999     2850\n",
       "Name: price, dtype: int64"
      ]
     },
     "execution_count": 23,
     "metadata": {},
     "output_type": "execute_result"
    }
   ],
   "source": [
    "price_series"
   ]
  },
  {
   "cell_type": "code",
   "execution_count": 24,
   "metadata": {
    "ExecuteTime": {
     "end_time": "2017-03-05T17:57:46.073388",
     "start_time": "2017-03-05T17:57:46.067124"
    },
    "collapsed": false
   },
   "outputs": [
    {
     "data": {
      "text/plain": [
       "0         2950\n",
       "1         2850\n",
       "100       3758\n",
       "1000      3300\n",
       "100000    4900\n",
       "100001    9000\n",
       "100002    2800\n",
       "100003    1900\n",
       "100005    3000\n",
       "100006    2300\n",
       "100008    4800\n",
       "100009    2195\n",
       "10001     4150\n",
       "100010    5200\n",
       "100011    4395\n",
       "100012    3050\n",
       "100015    2395\n",
       "100017    3950\n",
       "100018    2977\n",
       "100019    2995\n",
       "10002     2200\n",
       "100021    2295\n",
       "100022    3675\n",
       "100023    4400\n",
       "100024    2970\n",
       "100025    2000\n",
       "100028    6195\n",
       "100029    1650\n",
       "10003     3208\n",
       "100031    1650\n",
       "          ... \n",
       "99957     2895\n",
       "99958     4200\n",
       "99959     3250\n",
       "9996      2895\n",
       "99962     4500\n",
       "99963     2995\n",
       "99967     5750\n",
       "99968     4495\n",
       "99969     2599\n",
       "9997      2150\n",
       "99970     9000\n",
       "99971     3805\n",
       "99972     4150\n",
       "99973     2500\n",
       "99974     3795\n",
       "99975     6500\n",
       "99976     2500\n",
       "99977     3495\n",
       "99978     3695\n",
       "9998      3025\n",
       "99981     1850\n",
       "99983     3000\n",
       "99985     9500\n",
       "99989     2100\n",
       "99990     4250\n",
       "99995     2000\n",
       "99996     3649\n",
       "99997     2195\n",
       "99998     1775\n",
       "99999     2850\n",
       "Name: price, dtype: int64"
      ]
     },
     "execution_count": 24,
     "metadata": {},
     "output_type": "execute_result"
    }
   ],
   "source": [
    "test['price']"
   ]
  },
  {
   "cell_type": "code",
   "execution_count": 25,
   "metadata": {
    "ExecuteTime": {
     "end_time": "2017-03-05T17:57:58.022581",
     "start_time": "2017-03-05T17:57:58.017537"
    },
    "collapsed": false
   },
   "outputs": [
    {
     "data": {
      "text/plain": [
       "10         3000\n",
       "10000      5465\n",
       "100004     2850\n",
       "100007     3275\n",
       "100013     3350\n",
       "100014     7995\n",
       "100016     3600\n",
       "100020     5645\n",
       "100026     1725\n",
       "100027     5800\n",
       "100030     1950\n",
       "10004      1675\n",
       "100044     3000\n",
       "100048     6895\n",
       "10005      3050\n",
       "100051     2350\n",
       "100052     3650\n",
       "100053     1695\n",
       "100055     5000\n",
       "100058     3973\n",
       "100062     4395\n",
       "100063     2999\n",
       "100065     2595\n",
       "100066     3695\n",
       "10007      7400\n",
       "100071     7500\n",
       "100075     2295\n",
       "100076     3164\n",
       "100079     1350\n",
       "100081     5600\n",
       "          ...  \n",
       "99915      3126\n",
       "99917      3325\n",
       "99919      2100\n",
       "99921      3500\n",
       "99923     11950\n",
       "99924      2980\n",
       "99931      2850\n",
       "99933      2885\n",
       "99935      2950\n",
       "99937      2650\n",
       "9994       4850\n",
       "99953      3475\n",
       "99956      5815\n",
       "99960      2050\n",
       "99961      4600\n",
       "99964      2000\n",
       "99965      9200\n",
       "99966      4550\n",
       "99979      1900\n",
       "99980      2500\n",
       "99982      2500\n",
       "99984      2675\n",
       "99986      3645\n",
       "99987      2179\n",
       "99988      4500\n",
       "9999       3200\n",
       "99991      3950\n",
       "99992      2595\n",
       "99993      3350\n",
       "99994      2200\n",
       "Name: price, dtype: int64"
      ]
     },
     "execution_count": 25,
     "metadata": {},
     "output_type": "execute_result"
    }
   ],
   "source": [
    "train['price']"
   ]
  },
  {
   "cell_type": "code",
   "execution_count": 19,
   "metadata": {
    "ExecuteTime": {
     "end_time": "2017-03-09T21:35:55.982618",
     "start_time": "2017-03-09T21:35:55.980630"
    },
    "collapsed": true
   },
   "outputs": [],
   "source": [
    "import operator"
   ]
  },
  {
   "cell_type": "code",
   "execution_count": 20,
   "metadata": {
    "ExecuteTime": {
     "end_time": "2017-03-09T21:35:56.743764",
     "start_time": "2017-03-09T21:35:56.654845"
    },
    "collapsed": false
   },
   "outputs": [
    {
     "data": {
      "text/plain": [
       "10                                                       []\n",
       "10000     [Doorman, Elevator, FitnessCenter, CatsAllowed...\n",
       "100004    [LaundryInBuilding, Dishwasher, HardwoodFloors...\n",
       "100007                              [HardwoodFloors, NoFee]\n",
       "100013                                            [Pre-War]\n",
       "100014                                                   []\n",
       "100016    [prewar, elevator, DogsAllowed, CatsAllowed, L...\n",
       "100020    [Doorman, Elevator, Pre-War, Terrace, Laundryi...\n",
       "100026    [CatsAllowed, DogsAllowed, Elevator, LaundryIn...\n",
       "100027                         [Dishwasher, HardwoodFloors]\n",
       "100030                                                   []\n",
       "10004     [prewar, dishwasher, HIGHRISE, ROOFDECK, EATIN...\n",
       "100044        [Doorman, Elevator, LaundryinBuilding, NoFee]\n",
       "100048    [SwimmingPool, Doorman, FitnessCenter, NoFee, ...\n",
       "10005     [Elevator, Multi-Level, LaundryinBuilding, Dis...\n",
       "100051    [Doorman, Elevator, FitnessCenter, LaundryinBu...\n",
       "100052                                     [HardwoodFloors]\n",
       "100053    [prewar, LOWRISE, EATINKITCHEN, SIMPLEX, HARDW...\n",
       "100055                    [NoFee, CatsAllowed, DogsAllowed]\n",
       "100058                           [CatsAllowed, DogsAllowed]\n",
       "100062      [Doorman, Elevator, Dishwasher, HardwoodFloors]\n",
       "100063    [Elevator, CentralA/C, WalkinCloset(s), Parkin...\n",
       "100065                           [CatsAllowed, DogsAllowed]\n",
       "100066    [Doorman, FitnessCenter, Pool, Elevator, Publi...\n",
       "10007     [Balcony, Doorman, Elevator, FitnessCenter, Te...\n",
       "100071    [RoofDeck, DiningRoom, Balcony, Doorman, Eleva...\n",
       "100075                  [Dishwasher, HardwoodFloors, NoFee]\n",
       "100076    [RoofDeck, Doorman, Elevator, LaundryinBuildin...\n",
       "100079                                                   []\n",
       "100081    [Doorman, Elevator, FitnessCenter, Pre-War, La...\n",
       "                                ...                        \n",
       "99915     [SwimmingPool, Doorman, FitnessCenter, DogsAll...\n",
       "99917     [CatsAllowed, DogsAllowed, Doorman, Elevator, ...\n",
       "99919     [Elevator, LaundryinBuilding, LaundryinUnit, D...\n",
       "99921                            [Furnished, LaundryInUnit]\n",
       "99923          [Doorman, Pre-War, DogsAllowed, CatsAllowed]\n",
       "99924     [Doorman, LaundryinBuilding, LaundryinUnit, Di...\n",
       "99931                            [DogsAllowed, CatsAllowed]\n",
       "99933     [RoofDeck, DiningRoom, Doorman, Elevator, Fitn...\n",
       "99935                                                    []\n",
       "99937     [Pre-War, LaundryinBuilding, Dishwasher, Hardw...\n",
       "9994           [Doorman, Pre-War, DogsAllowed, CatsAllowed]\n",
       "99953     [Doorman, Elevator, Furnished, Pre-War, Dishwa...\n",
       "99956     [CommonOutdoorSpace, CatsAllowed, DogsAllowed,...\n",
       "99960                                      [HardwoodFloors]\n",
       "99961     [Doorman, Elevator, LaundryinBuilding, Dishwas...\n",
       "99964       [Loft, Multi-Level, Dishwasher, HardwoodFloors]\n",
       "99965     [SwimmingPool, DiningRoom, Doorman, Elevator, ...\n",
       "99966     [RoofDeck, Doorman, Elevator, FitnessCenter, L...\n",
       "99979                                                    []\n",
       "99980     [CommonOutdoorSpace, CatsAllowed, DogsAllowed,...\n",
       "99982     [Doorman, Elevator, FitnessCenter, LaundryinBu...\n",
       "99984     [Elevator, Multi-Level, Dishwasher, HardwoodFl...\n",
       "99986                            [Elevator, HardwoodFloors]\n",
       "99987                                          [Dishwasher]\n",
       "99988     [CatsAllowed, NoFee, Doorman, Elevator, Laundr...\n",
       "9999      [Elevator, LaundryinBuilding, LaundryinUnit, D...\n",
       "99991     [CommonOutdoorSpace, CatsAllowed, DogsAllowed,...\n",
       "99992     [Doorman, Elevator, Pre-War, DogsAllowed, Cats...\n",
       "99993     [Doorman, Elevator, Pre-War, DogsAllowed, Cats...\n",
       "99994                                      [HardwoodFloors]\n",
       "Name: features, dtype: object"
      ]
     },
     "execution_count": 20,
     "metadata": {},
     "output_type": "execute_result"
    }
   ],
   "source": [
    "train['features'].apply(lambda x:list(map(operator.methodcaller(\"replace\", ' ', '_'),x)))"
   ]
  },
  {
   "cell_type": "code",
   "execution_count": null,
   "metadata": {
    "collapsed": true
   },
   "outputs": [],
   "source": []
  }
 ],
 "metadata": {
  "kernelspec": {
   "display_name": "Python 3",
   "language": "python",
   "name": "python3"
  },
  "language_info": {
   "codemirror_mode": {
    "name": "ipython",
    "version": 3
   },
   "file_extension": ".py",
   "mimetype": "text/x-python",
   "name": "python",
   "nbconvert_exporter": "python",
   "pygments_lexer": "ipython3",
   "version": "3.6.0"
  }
 },
 "nbformat": 4,
 "nbformat_minor": 2
}
