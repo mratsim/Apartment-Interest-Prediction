{
 "cells": [
  {
   "cell_type": "code",
   "execution_count": 1,
   "metadata": {
    "ExecuteTime": {
     "end_time": "2017-02-19T00:15:23.141709",
     "start_time": "2017-02-19T00:15:22.964467"
    },
    "collapsed": true
   },
   "outputs": [],
   "source": [
    "import numpy as np\n",
    "import pandas as pd"
   ]
  },
  {
   "cell_type": "code",
   "execution_count": 2,
   "metadata": {
    "ExecuteTime": {
     "end_time": "2017-02-19T00:15:23.282995",
     "start_time": "2017-02-19T00:15:23.142816"
    },
    "collapsed": true
   },
   "outputs": [],
   "source": [
    "from sklearn.model_selection import KFold"
   ]
  },
  {
   "cell_type": "code",
   "execution_count": 3,
   "metadata": {
    "ExecuteTime": {
     "end_time": "2017-02-19T00:15:25.358517",
     "start_time": "2017-02-19T00:15:23.284026"
    },
    "collapsed": true
   },
   "outputs": [],
   "source": [
    "# # Import data\n",
    "df_train = pd.read_json(open(\"./data/train.json\", \"r\"))\n",
    "df_test = pd.read_json(open(\"./data/test.json\", \"r\"))"
   ]
  },
  {
   "cell_type": "code",
   "execution_count": 4,
   "metadata": {
    "ExecuteTime": {
     "end_time": "2017-02-19T00:15:25.361528",
     "start_time": "2017-02-19T00:15:25.359495"
    },
    "collapsed": true
   },
   "outputs": [],
   "source": [
    "X = df_train\n",
    "y = df_train['interest_level']"
   ]
  },
  {
   "cell_type": "code",
   "execution_count": 5,
   "metadata": {
    "ExecuteTime": {
     "end_time": "2017-02-19T00:15:25.366820",
     "start_time": "2017-02-19T00:15:25.362312"
    },
    "collapsed": false
   },
   "outputs": [],
   "source": [
    "kf = KFold(n_splits=5, shuffle=True, random_state=1337)"
   ]
  },
  {
   "cell_type": "code",
   "execution_count": 10,
   "metadata": {
    "ExecuteTime": {
     "end_time": "2017-02-19T00:17:08.603728",
     "start_time": "2017-02-19T00:17:08.599566"
    },
    "collapsed": false
   },
   "outputs": [
    {
     "data": {
      "text/plain": [
       "bathrooms                                                          1\n",
       "bedrooms                                                           2\n",
       "building_id                         5173052db6efc0caaa4d817112a70f32\n",
       "created                                          2016-04-12 02:48:07\n",
       "description        Look no further!!!  This giant 2 bedroom apart...\n",
       "display_address                                    Park Terrace East\n",
       "features                                           [Hardwood Floors]\n",
       "interest_level                                                   low\n",
       "latitude                                                     40.8699\n",
       "listing_id                                                   6858245\n",
       "longitude                                                   -73.9172\n",
       "manager_id                          d7f57128272bfd82e33a61999b5f4c42\n",
       "photos             [https://photos.renthop.com/2/6858245_c4380bde...\n",
       "price                                                           2200\n",
       "street_address                                  30 Park Terrace East\n",
       "Name: 99994, dtype: object"
      ]
     },
     "execution_count": 10,
     "metadata": {},
     "output_type": "execute_result"
    }
   ],
   "source": [
    "X.iloc[49351]"
   ]
  },
  {
   "cell_type": "code",
   "execution_count": 12,
   "metadata": {
    "ExecuteTime": {
     "end_time": "2017-02-19T00:17:58.556021",
     "start_time": "2017-02-19T00:17:58.368958"
    },
    "collapsed": false
   },
   "outputs": [
    {
     "name": "stdout",
     "output_type": "stream",
     "text": [
      "TRAIN: [    0     2     4 ..., 49345 49346 49347] TEST: [    1     3     7 ..., 49349 49350 49351]\n",
      "TRAIN: [    0     1     2 ..., 49349 49350 49351] TEST: [    5    11    12 ..., 49340 49345 49347]\n",
      "TRAIN: [    0     1     2 ..., 49349 49350 49351] TEST: [    4     6    16 ..., 49336 49337 49342]\n",
      "TRAIN: [    0     1     3 ..., 49349 49350 49351] TEST: [    2     8     9 ..., 49339 49344 49346]\n",
      "TRAIN: [    1     2     3 ..., 49349 49350 49351] TEST: [    0    10    14 ..., 49328 49332 49341]\n"
     ]
    }
   ],
   "source": [
    "for train_index, test_index in kf.split(df_train):\n",
    "    print(\"TRAIN:\", train_index, \"TEST:\", test_index)\n",
    "    X_train, X_test = X.iloc[train_index], X.iloc[test_index]\n",
    "    y_train, y_test = y.iloc[train_index], y.iloc[test_index]"
   ]
  },
  {
   "cell_type": "code",
   "execution_count": null,
   "metadata": {
    "collapsed": true
   },
   "outputs": [],
   "source": []
  }
 ],
 "metadata": {
  "kernelspec": {
   "display_name": "Python 3",
   "language": "python",
   "name": "python3"
  },
  "language_info": {
   "codemirror_mode": {
    "name": "ipython",
    "version": 3
   },
   "file_extension": ".py",
   "mimetype": "text/x-python",
   "name": "python",
   "nbconvert_exporter": "python",
   "pygments_lexer": "ipython3",
   "version": "3.6.0"
  }
 },
 "nbformat": 4,
 "nbformat_minor": 2
}
