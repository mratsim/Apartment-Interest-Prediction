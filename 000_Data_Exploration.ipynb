{
 "cells": [
  {
   "cell_type": "code",
   "execution_count": 1,
   "metadata": {
    "ExecuteTime": {
     "end_time": "2017-02-26T08:57:56.826448",
     "start_time": "2017-02-26T08:57:56.616731"
    },
    "collapsed": true
   },
   "outputs": [],
   "source": [
    "import pandas as pd\n",
    "import numpy as np"
   ]
  },
  {
   "cell_type": "code",
   "execution_count": 2,
   "metadata": {
    "ExecuteTime": {
     "end_time": "2017-02-26T08:57:59.234208",
     "start_time": "2017-02-26T08:57:58.357554"
    },
    "collapsed": false
   },
   "outputs": [],
   "source": [
    "train = pd.read_json(open(\"./data/train.json\", \"r\"))"
   ]
  },
  {
   "cell_type": "code",
   "execution_count": 7,
   "metadata": {
    "ExecuteTime": {
     "end_time": "2017-02-26T09:00:11.431779",
     "start_time": "2017-02-26T09:00:11.405854"
    },
    "collapsed": false
   },
   "outputs": [
    {
     "data": {
      "text/plain": [
       "False"
      ]
     },
     "execution_count": 7,
     "metadata": {},
     "output_type": "execute_result"
    }
   ],
   "source": [
    "any(pd.to_datetime(train[\"created\"]).dt.year != 2016)"
   ]
  },
  {
   "cell_type": "code",
   "execution_count": null,
   "metadata": {
    "collapsed": true
   },
   "outputs": [],
   "source": [
    "pd."
   ]
  },
  {
   "cell_type": "code",
   "execution_count": null,
   "metadata": {
    "ExecuteTime": {
     "end_time": "2017-02-22T21:15:11.911160",
     "start_time": "2017-02-22T21:15:11.892723"
    },
    "collapsed": false
   },
   "outputs": [],
   "source": [
    "t = train.groupby('manager_id')['manager_id'].value_counts()"
   ]
  },
  {
   "cell_type": "code",
   "execution_count": null,
   "metadata": {
    "ExecuteTime": {
     "end_time": "2017-02-22T21:15:13.024984",
     "start_time": "2017-02-22T21:15:13.013791"
    },
    "collapsed": false
   },
   "outputs": [],
   "source": [
    "s=train.groupby(['manager_id','interest_level']).size().unstack()"
   ]
  },
  {
   "cell_type": "code",
   "execution_count": null,
   "metadata": {
    "ExecuteTime": {
     "end_time": "2017-02-24T23:50:03.762806",
     "start_time": "2017-02-24T23:50:03.760940"
    },
    "collapsed": true
   },
   "outputs": [],
   "source": [
    "import numpy as np"
   ]
  },
  {
   "cell_type": "code",
   "execution_count": null,
   "metadata": {
    "ExecuteTime": {
     "end_time": "2017-02-22T21:02:20.231141",
     "start_time": "2017-02-22T21:02:20.228935"
    },
    "collapsed": false
   },
   "outputs": [],
   "source": [
    "from numba import vectorize, float32, int32\n",
    "from numba.types import UniTuple"
   ]
  },
  {
   "cell_type": "code",
   "execution_count": null,
   "metadata": {
    "ExecuteTime": {
     "end_time": "2017-02-22T21:10:07.569074",
     "start_time": "2017-02-22T21:10:07.565679"
    },
    "collapsed": false
   },
   "outputs": [],
   "source": [
    "@autojit\n",
    "def intlevel_freqcount(a,b,c):\n",
    "    a,b,c = np.nan_to_num([a,b,c])\n",
    "    tot = sum([a,b,c])\n",
    "    return pd.Series([a/tot,b/tot,c/tot,tot])\n",
    "    "
   ]
  },
  {
   "cell_type": "code",
   "execution_count": null,
   "metadata": {
    "ExecuteTime": {
     "end_time": "2017-02-22T21:10:08.270712",
     "start_time": "2017-02-22T21:10:08.208145"
    },
    "collapsed": false
   },
   "outputs": [],
   "source": [
    "intlevel_freqcount(1,2,5)"
   ]
  },
  {
   "cell_type": "code",
   "execution_count": null,
   "metadata": {
    "ExecuteTime": {
     "end_time": "2017-02-22T21:12:28.321776",
     "start_time": "2017-02-22T21:12:28.302632"
    },
    "collapsed": false
   },
   "outputs": [],
   "source": [
    "s.apply(np.nan_to_num)"
   ]
  },
  {
   "cell_type": "code",
   "execution_count": null,
   "metadata": {
    "ExecuteTime": {
     "end_time": "2017-02-22T21:17:08.156221",
     "start_time": "2017-02-22T21:17:08.147374"
    },
    "collapsed": false
   },
   "outputs": [],
   "source": [
    "s.reset_index().apply(np.nan_to_num).merge(t,how='left',left_on='manager_id',right_index=True)"
   ]
  },
  {
   "cell_type": "code",
   "execution_count": null,
   "metadata": {
    "ExecuteTime": {
     "end_time": "2017-02-22T21:16:38.225401",
     "start_time": "2017-02-22T21:16:38.219542"
    },
    "collapsed": false
   },
   "outputs": [],
   "source": [
    "t"
   ]
  },
  {
   "cell_type": "code",
   "execution_count": null,
   "metadata": {
    "ExecuteTime": {
     "end_time": "2017-02-22T22:07:54.462244",
     "start_time": "2017-02-22T22:07:54.446315"
    },
    "collapsed": false
   },
   "outputs": [],
   "source": [
    "    df_manager = (pd.concat([train['manager_id'], \n",
    "                           pd.get_dummies(train['interest_level'])], axis = 1)\n",
    "                                        .groupby('manager_id')\n",
    "                                        .mean()\n",
    "                                        .rename(columns = lambda x: 'manager_percent_' + x)\n",
    "                                           )\n"
   ]
  },
  {
   "cell_type": "code",
   "execution_count": null,
   "metadata": {
    "ExecuteTime": {
     "end_time": "2017-02-22T22:08:05.807562",
     "start_time": "2017-02-22T22:08:05.792790"
    },
    "collapsed": false
   },
   "outputs": [],
   "source": [
    "df_manager"
   ]
  },
  {
   "cell_type": "code",
   "execution_count": null,
   "metadata": {
    "ExecuteTime": {
     "end_time": "2017-02-22T22:08:11.883992",
     "start_time": "2017-02-22T22:08:11.865669"
    },
    "collapsed": false
   },
   "outputs": [],
   "source": [
    "t = train.groupby('manager_id')['manager_id'].value_counts()"
   ]
  },
  {
   "cell_type": "code",
   "execution_count": null,
   "metadata": {
    "ExecuteTime": {
     "end_time": "2017-02-22T21:27:53.973976",
     "start_time": "2017-02-22T21:27:53.951279"
    },
    "collapsed": false
   },
   "outputs": [],
   "source": [
    "\n",
    "\n",
    "pd.concat([train['manager_id'],pd.get_dummies(train['interest_level'])], axis = 1).groupby('manager_id').mean()"
   ]
  },
  {
   "cell_type": "code",
   "execution_count": null,
   "metadata": {
    "ExecuteTime": {
     "end_time": "2017-02-22T21:29:40.613600",
     "start_time": "2017-02-22T21:29:40.606923"
    },
    "collapsed": false
   },
   "outputs": [],
   "source": [
    "df_manager['test']=train.groupby('manager_id').size()"
   ]
  },
  {
   "cell_type": "code",
   "execution_count": null,
   "metadata": {
    "ExecuteTime": {
     "end_time": "2017-02-22T21:29:46.942373",
     "start_time": "2017-02-22T21:29:46.929066"
    },
    "collapsed": false
   },
   "outputs": [],
   "source": [
    "df_manager"
   ]
  },
  {
   "cell_type": "code",
   "execution_count": null,
   "metadata": {
    "ExecuteTime": {
     "end_time": "2017-02-22T22:11:40.885906",
     "start_time": "2017-02-22T22:11:40.867436"
    },
    "collapsed": false
   },
   "outputs": [],
   "source": [
    "df_mngr = (pd.concat([train['manager_id'], \n",
    "                           pd.get_dummies(train['interest_level'])], axis = 1)\n",
    "                                        .groupby('manager_id')\n",
    "                                        .transform('mean')\n",
    "                                        .rename(columns = lambda x: 'mngr_percent_' + x)\n",
    "                                           )\n",
    "\n"
   ]
  },
  {
   "cell_type": "code",
   "execution_count": null,
   "metadata": {
    "ExecuteTime": {
     "end_time": "2017-02-22T22:11:41.840150",
     "start_time": "2017-02-22T22:11:41.829499"
    },
    "collapsed": false
   },
   "outputs": [],
   "source": [
    "df_mngr"
   ]
  },
  {
   "cell_type": "code",
   "execution_count": null,
   "metadata": {
    "collapsed": true
   },
   "outputs": [],
   "source": [
    "# get ixes for unranked managers...\n",
    "unrkd_mngrs_ixes = df_mngr['manager_count']<20\n",
    "# ... and ranked ones\n",
    "rkd_mngrs_ixes = ~unrkd_mngrs_ixes\n",
    "\n",
    "# compute mean values from ranked managers and assign them to unranked ones\n",
    "mean_val = df_mngr.loc[rkd_mngrs_ixes,\n",
    "                           ['mngr_percent_high',\n",
    "                            'mngr_percent_low',\n",
    "                            'mngr_percent_medium',\n",
    "                            'manager_skill']].mean()\n",
    "df_mngr.loc[unrkd_mngrs_ixes, ['mngr_percent_high',\n",
    "                                    'mngr_percent_low',\n",
    "                                    'mngr_percent_medium',\n",
    "                                    'manager_skill']] = mean_val.values"
   ]
  },
  {
   "cell_type": "code",
   "execution_count": null,
   "metadata": {
    "ExecuteTime": {
     "end_time": "2017-02-24T18:29:15.426801",
     "start_time": "2017-02-24T18:29:15.423572"
    },
    "collapsed": false
   },
   "outputs": [],
   "source": [
    "train['description'][100004]"
   ]
  },
  {
   "cell_type": "code",
   "execution_count": 31,
   "metadata": {
    "ExecuteTime": {
     "end_time": "2017-02-25T14:14:41.058623",
     "start_time": "2017-02-25T14:14:40.911804"
    },
    "collapsed": false
   },
   "outputs": [],
   "source": [
    "import matplotlib.pyplot as plt\n",
    "from sklearn.cluster import DBSCAN\n",
    "from geopy.distance import great_circle\n",
    "from shapely.geometry import MultiPoint\n",
    "from sklearn import metrics\n",
    "from hdbscan import HDBSCAN\n",
    "import time\n",
    "%matplotlib inline"
   ]
  },
  {
   "cell_type": "code",
   "execution_count": null,
   "metadata": {
    "ExecuteTime": {
     "end_time": "2017-02-25T02:22:29.300772",
     "start_time": "2017-02-25T02:22:29.298788"
    },
    "collapsed": true
   },
   "outputs": [],
   "source": [
    "# define the number of kilometers in one radian\n",
    "kms_per_radian = 6371.0088"
   ]
  },
  {
   "cell_type": "code",
   "execution_count": 25,
   "metadata": {
    "ExecuteTime": {
     "end_time": "2017-02-25T14:11:10.466551",
     "start_time": "2017-02-25T14:11:10.463984"
    },
    "collapsed": false
   },
   "outputs": [],
   "source": [
    "coords = train[['latitude','longitude']]"
   ]
  },
  {
   "cell_type": "code",
   "execution_count": null,
   "metadata": {
    "ExecuteTime": {
     "end_time": "2017-02-25T02:23:03.386100",
     "start_time": "2017-02-25T02:23:03.382258"
    },
    "collapsed": false
   },
   "outputs": [],
   "source": [
    "coords"
   ]
  },
  {
   "cell_type": "code",
   "execution_count": null,
   "metadata": {
    "ExecuteTime": {
     "end_time": "2017-02-25T02:23:03.731990",
     "start_time": "2017-02-25T02:23:03.730028"
    },
    "collapsed": false
   },
   "outputs": [],
   "source": [
    "# define epsilon as 200m, converted to radians for use by haversine\n",
    "epsilon = 0.2 / kms_per_radian"
   ]
  },
  {
   "cell_type": "code",
   "execution_count": null,
   "metadata": {
    "ExecuteTime": {
     "end_time": "2017-02-25T02:27:37.982966",
     "start_time": "2017-02-25T02:27:33.003308"
    },
    "collapsed": false
   },
   "outputs": [],
   "source": [
    "start_time = time.time()\n",
    "db = DBSCAN(eps=epsilon, min_samples=1, algorithm='ball_tree', metric='haversine', n_jobs=-1).fit(np.radians(coords))\n",
    "cluster_labels = db.labels_\n",
    "\n",
    "# get the number of clusters\n",
    "num_clusters = len(set(cluster_labels))\n",
    "\n",
    "# all done, print the outcome\n",
    "message = 'Clustered {:,} points down to {:,} clusters, for {:.1f}% compression in {:,.2f} seconds'\n",
    "print(message.format(len(train), num_clusters, 100*(1 - float(num_clusters) / len(train)), time.time()-start_time))\n",
    "#print('Silhouette coefficient: {:0.03f}'.format(metrics.silhouette_score(coords, cluster_labels)))"
   ]
  },
  {
   "cell_type": "code",
   "execution_count": null,
   "metadata": {
    "ExecuteTime": {
     "end_time": "2017-02-25T02:27:40.888552",
     "start_time": "2017-02-25T02:27:39.469001"
    },
    "collapsed": false
   },
   "outputs": [],
   "source": [
    "clusters = pd.Series([coords[cluster_labels==n] for n in range(num_clusters)])\n",
    "print(clusters)\n",
    "centermost_points = clusters.map(_get_centermost_point)"
   ]
  },
  {
   "cell_type": "code",
   "execution_count": null,
   "metadata": {
    "ExecuteTime": {
     "end_time": "2017-02-25T02:35:51.307932",
     "start_time": "2017-02-25T02:35:51.295168"
    },
    "collapsed": false
   },
   "outputs": [],
   "source": [
    "def _get_centermost_point(cluster):\n",
    "        centroid = (MultiPoint(cluster).centroid.x, MultiPoint(cluster).centroid.y)\n",
    "        centermost_point = min(cluster, key=lambda point: great_circle(point, centroid).m)\n",
    "        return tuple(centermost_point)\n",
    "    \n",
    "def _trans(df):\n",
    "        \n",
    "        coords = df[['latitude','longitude']].as_matrix()\n",
    "        \n",
    "        start_time = time.time()\n",
    "        db = HDBSCAN(min_samples=1,\n",
    "                    metric='haversine',\n",
    "                    core_dist_n_jobs=-1,\n",
    "                    memory='./__pycache__/' \n",
    "                   ).fit(coords)\n",
    "        cluster_labels = db.labels_\n",
    "        \n",
    "        # get the number of clusters\n",
    "        num_clusters = len(set(cluster_labels))\n",
    "        message = 'Clustered {:,} points down to {:,} clusters, for {:.1f}% compression in {:,.2f} seconds'\n",
    "        print(message.format(len(df), num_clusters, 100*(1 - float(num_clusters) / len(df)), time.time()-start_time))\n",
    "        \n",
    "        # turn the clusters in to a pandas series, where each element is a cluster of points\n",
    "        clusters = pd.Series([coords[cluster_labels==n] for n in range(num_clusters)])\n",
    "        print(clusters)\n",
    "        centermost_points = clusters.map(_get_centermost_point)\n",
    "        \n",
    "        #Retrieve the lists of centermost points\n",
    "        new_lat, new_long = zip(*centermost_points)\n",
    "        return df.assign(\n",
    "            cluster_lat = new_lat,\n",
    "            cluster_long = new_long\n",
    "        )"
   ]
  },
  {
   "cell_type": "code",
   "execution_count": 4,
   "metadata": {
    "ExecuteTime": {
     "end_time": "2017-02-25T13:29:14.796998",
     "start_time": "2017-02-25T13:29:13.554246"
    },
    "collapsed": false
   },
   "outputs": [],
   "source": [
    "test = pd.read_json(open(\"./data/test.json\", \"r\"))"
   ]
  },
  {
   "cell_type": "code",
   "execution_count": null,
   "metadata": {
    "ExecuteTime": {
     "end_time": "2017-02-25T02:30:35.748257",
     "start_time": "2017-02-25T02:30:32.145440"
    },
    "collapsed": false
   },
   "outputs": [],
   "source": [
    "_trans(test)"
   ]
  },
  {
   "cell_type": "code",
   "execution_count": 1,
   "metadata": {
    "ExecuteTime": {
     "end_time": "2017-02-25T13:28:53.994871",
     "start_time": "2017-02-25T13:28:53.771575"
    },
    "collapsed": true
   },
   "outputs": [],
   "source": [
    "from hdbscan import HDBSCAN"
   ]
  },
  {
   "cell_type": "code",
   "execution_count": null,
   "metadata": {
    "ExecuteTime": {
     "end_time": "2017-02-25T12:55:02.085778",
     "start_time": "2017-02-25T12:55:01.105957"
    },
    "collapsed": false
   },
   "outputs": [],
   "source": [
    "        coords = train[['latitude','longitude']]\n",
    "        \n",
    "        start_time = time.time()\n",
    "        db = HDBSCAN(min_samples=1,\n",
    "                    metric='haversine',\n",
    "                    core_dist_n_jobs=-1,\n",
    "                    memory='./__pycache__/'\n",
    "                   ).fit(coords)\n",
    "        cluster_labels = db.labels_\n",
    "        \n",
    "        # get the number of clusters\n",
    "        num_clusters = cluster_labels.max()\n",
    "        message = 'Clustered {:,} points down to {:,} clusters, for {:.1f}% compression in {:,.2f} seconds'\n",
    "        print(message.format(len(train), num_clusters, 100*(1 - float(num_clusters) / len(train)), time.time()-start_time))\n",
    "        \n",
    "        # turn the clusters in to a pandas series, where each element is a cluster of points\n",
    "        clusters = pd.Series([coords.iloc[cluster_labels==n] for n in range(num_clusters)])"
   ]
  },
  {
   "cell_type": "code",
   "execution_count": null,
   "metadata": {
    "ExecuteTime": {
     "end_time": "2017-02-25T10:42:05.516168",
     "start_time": "2017-02-25T10:42:05.513187"
    },
    "collapsed": false
   },
   "outputs": [],
   "source": [
    "cluster_labels"
   ]
  },
  {
   "cell_type": "code",
   "execution_count": null,
   "metadata": {
    "ExecuteTime": {
     "end_time": "2017-02-25T10:42:00.174486",
     "start_time": "2017-02-25T10:42:00.171303"
    },
    "collapsed": false
   },
   "outputs": [],
   "source": [
    "cluster_labels.max()"
   ]
  },
  {
   "cell_type": "code",
   "execution_count": null,
   "metadata": {
    "ExecuteTime": {
     "end_time": "2017-02-25T10:50:35.801667",
     "start_time": "2017-02-25T10:50:35.799702"
    },
    "collapsed": false
   },
   "outputs": [],
   "source": [
    "coords_new = coords"
   ]
  },
  {
   "cell_type": "code",
   "execution_count": null,
   "metadata": {
    "ExecuteTime": {
     "end_time": "2017-02-25T12:27:52.030640",
     "start_time": "2017-02-25T12:27:52.027959"
    },
    "collapsed": false
   },
   "outputs": [],
   "source": [
    "c = coords.assign( cluster = db.labels_)"
   ]
  },
  {
   "cell_type": "code",
   "execution_count": null,
   "metadata": {
    "ExecuteTime": {
     "end_time": "2017-02-25T12:27:53.943549",
     "start_time": "2017-02-25T12:27:53.940831"
    },
    "collapsed": false
   },
   "outputs": [],
   "source": [
    "gb = c.groupby('cluster')['latitude','longitude']"
   ]
  },
  {
   "cell_type": "code",
   "execution_count": null,
   "metadata": {
    "ExecuteTime": {
     "end_time": "2017-02-25T12:27:57.595273",
     "start_time": "2017-02-25T12:27:55.267848"
    },
    "collapsed": false
   },
   "outputs": [],
   "source": [
    "cluster_centers = gb.agg(lambda x: _get_centermost_point(x.values))"
   ]
  },
  {
   "cell_type": "code",
   "execution_count": 29,
   "metadata": {
    "ExecuteTime": {
     "end_time": "2017-02-25T14:14:25.218451",
     "start_time": "2017-02-25T14:14:25.215494"
    },
    "collapsed": false
   },
   "outputs": [],
   "source": [
    "def _get_centermost_point(cluster):\n",
    "        centroid = (MultiPoint(cluster).centroid.x, MultiPoint(cluster).centroid.y)\n",
    "        centermost_point = min(cluster, key=lambda point: great_circle(point, centroid).m)\n",
    "        lat,long,label = centermost_point\n",
    "        return lat,long"
   ]
  },
  {
   "cell_type": "code",
   "execution_count": null,
   "metadata": {
    "ExecuteTime": {
     "end_time": "2017-02-25T12:28:03.705839",
     "start_time": "2017-02-25T12:28:03.687936"
    },
    "collapsed": false
   },
   "outputs": [],
   "source": [
    "c.merge(cluster_centers, left_on='cluster', right_index=True,how='left',suffixes=('', '_cluster'))"
   ]
  },
  {
   "cell_type": "code",
   "execution_count": null,
   "metadata": {
    "ExecuteTime": {
     "end_time": "2017-02-25T12:22:07.664927",
     "start_time": "2017-02-25T12:22:07.655983"
    },
    "collapsed": false
   },
   "outputs": [],
   "source": [
    "cluster_centers"
   ]
  },
  {
   "cell_type": "code",
   "execution_count": 20,
   "metadata": {
    "ExecuteTime": {
     "end_time": "2017-02-25T13:51:31.992119",
     "start_time": "2017-02-25T13:51:31.989449"
    },
    "collapsed": true
   },
   "outputs": [],
   "source": [
    "coords_test = test[['latitude','longitude']]"
   ]
  },
  {
   "cell_type": "code",
   "execution_count": null,
   "metadata": {
    "ExecuteTime": {
     "end_time": "2017-02-25T12:59:22.698764",
     "start_time": "2017-02-25T12:59:22.693210"
    },
    "collapsed": false
   },
   "outputs": [],
   "source": [
    "db.approximate_predict(coords_test)"
   ]
  },
  {
   "cell_type": "code",
   "execution_count": 11,
   "metadata": {
    "ExecuteTime": {
     "end_time": "2017-02-25T13:33:33.745548",
     "start_time": "2017-02-25T13:33:33.742912"
    },
    "collapsed": true
   },
   "outputs": [],
   "source": [
    "        db = HDBSCAN(min_samples=1,\n",
    "                    metric='haversine',\n",
    "                    algorithm='boruvka_balltree',\n",
    "                    core_dist_n_jobs=-1,\n",
    "                    memory='./__pycache__/',\n",
    "                    prediction_data=True\n",
    "                   )"
   ]
  },
  {
   "cell_type": "code",
   "execution_count": 23,
   "metadata": {
    "ExecuteTime": {
     "end_time": "2017-02-25T14:09:49.893217",
     "start_time": "2017-02-25T14:09:24.039375"
    },
    "collapsed": false,
    "scrolled": true
   },
   "outputs": [],
   "source": [
    "coords = train[['latitude','longitude']]"
   ]
  },
  {
   "cell_type": "code",
   "execution_count": 26,
   "metadata": {
    "ExecuteTime": {
     "end_time": "2017-02-25T14:11:47.106942",
     "start_time": "2017-02-25T14:11:21.255898"
    },
    "collapsed": false
   },
   "outputs": [],
   "source": [
    "train2 = train.assign( cluster = db.fit_predict(coords) )"
   ]
  },
  {
   "cell_type": "code",
   "execution_count": 34,
   "metadata": {
    "ExecuteTime": {
     "end_time": "2017-02-25T14:15:48.055624",
     "start_time": "2017-02-25T14:15:45.799350"
    },
    "collapsed": false
   },
   "outputs": [
    {
     "data": {
      "text/html": [
       "<div>\n",
       "<table border=\"1\" class=\"dataframe\">\n",
       "  <thead>\n",
       "    <tr style=\"text-align: right;\">\n",
       "      <th></th>\n",
       "      <th>latitude</th>\n",
       "      <th>longitude</th>\n",
       "    </tr>\n",
       "    <tr>\n",
       "      <th>cluster</th>\n",
       "      <th></th>\n",
       "      <th></th>\n",
       "    </tr>\n",
       "  </thead>\n",
       "  <tbody>\n",
       "    <tr>\n",
       "      <th>-1</th>\n",
       "      <td>-1.0</td>\n",
       "      <td>40.7464</td>\n",
       "    </tr>\n",
       "    <tr>\n",
       "      <th>0</th>\n",
       "      <td>0.0</td>\n",
       "      <td>0.0000</td>\n",
       "    </tr>\n",
       "    <tr>\n",
       "      <th>1</th>\n",
       "      <td>1.0</td>\n",
       "      <td>40.7128</td>\n",
       "    </tr>\n",
       "    <tr>\n",
       "      <th>2</th>\n",
       "      <td>2.0</td>\n",
       "      <td>40.7179</td>\n",
       "    </tr>\n",
       "    <tr>\n",
       "      <th>3</th>\n",
       "      <td>3.0</td>\n",
       "      <td>40.7211</td>\n",
       "    </tr>\n",
       "    <tr>\n",
       "      <th>4</th>\n",
       "      <td>4.0</td>\n",
       "      <td>40.7182</td>\n",
       "    </tr>\n",
       "    <tr>\n",
       "      <th>5</th>\n",
       "      <td>5.0</td>\n",
       "      <td>40.7183</td>\n",
       "    </tr>\n",
       "    <tr>\n",
       "      <th>6</th>\n",
       "      <td>6.0</td>\n",
       "      <td>40.7169</td>\n",
       "    </tr>\n",
       "    <tr>\n",
       "      <th>7</th>\n",
       "      <td>7.0</td>\n",
       "      <td>40.7166</td>\n",
       "    </tr>\n",
       "    <tr>\n",
       "      <th>8</th>\n",
       "      <td>8.0</td>\n",
       "      <td>40.7202</td>\n",
       "    </tr>\n",
       "    <tr>\n",
       "      <th>9</th>\n",
       "      <td>9.0</td>\n",
       "      <td>40.7160</td>\n",
       "    </tr>\n",
       "    <tr>\n",
       "      <th>10</th>\n",
       "      <td>10.0</td>\n",
       "      <td>40.7170</td>\n",
       "    </tr>\n",
       "    <tr>\n",
       "      <th>11</th>\n",
       "      <td>11.0</td>\n",
       "      <td>40.7166</td>\n",
       "    </tr>\n",
       "    <tr>\n",
       "      <th>12</th>\n",
       "      <td>12.0</td>\n",
       "      <td>40.7243</td>\n",
       "    </tr>\n",
       "    <tr>\n",
       "      <th>13</th>\n",
       "      <td>13.0</td>\n",
       "      <td>40.7236</td>\n",
       "    </tr>\n",
       "    <tr>\n",
       "      <th>14</th>\n",
       "      <td>14.0</td>\n",
       "      <td>40.7196</td>\n",
       "    </tr>\n",
       "    <tr>\n",
       "      <th>15</th>\n",
       "      <td>15.0</td>\n",
       "      <td>40.7191</td>\n",
       "    </tr>\n",
       "    <tr>\n",
       "      <th>16</th>\n",
       "      <td>16.0</td>\n",
       "      <td>40.7162</td>\n",
       "    </tr>\n",
       "    <tr>\n",
       "      <th>17</th>\n",
       "      <td>17.0</td>\n",
       "      <td>40.7154</td>\n",
       "    </tr>\n",
       "    <tr>\n",
       "      <th>18</th>\n",
       "      <td>18.0</td>\n",
       "      <td>40.7067</td>\n",
       "    </tr>\n",
       "    <tr>\n",
       "      <th>19</th>\n",
       "      <td>19.0</td>\n",
       "      <td>40.7066</td>\n",
       "    </tr>\n",
       "    <tr>\n",
       "      <th>20</th>\n",
       "      <td>20.0</td>\n",
       "      <td>40.7077</td>\n",
       "    </tr>\n",
       "    <tr>\n",
       "      <th>21</th>\n",
       "      <td>21.0</td>\n",
       "      <td>40.7073</td>\n",
       "    </tr>\n",
       "    <tr>\n",
       "      <th>22</th>\n",
       "      <td>22.0</td>\n",
       "      <td>40.7091</td>\n",
       "    </tr>\n",
       "    <tr>\n",
       "      <th>23</th>\n",
       "      <td>23.0</td>\n",
       "      <td>40.7098</td>\n",
       "    </tr>\n",
       "    <tr>\n",
       "      <th>24</th>\n",
       "      <td>24.0</td>\n",
       "      <td>40.7113</td>\n",
       "    </tr>\n",
       "    <tr>\n",
       "      <th>25</th>\n",
       "      <td>25.0</td>\n",
       "      <td>40.7109</td>\n",
       "    </tr>\n",
       "    <tr>\n",
       "      <th>26</th>\n",
       "      <td>26.0</td>\n",
       "      <td>40.7114</td>\n",
       "    </tr>\n",
       "    <tr>\n",
       "      <th>27</th>\n",
       "      <td>27.0</td>\n",
       "      <td>40.7085</td>\n",
       "    </tr>\n",
       "    <tr>\n",
       "      <th>28</th>\n",
       "      <td>28.0</td>\n",
       "      <td>40.7091</td>\n",
       "    </tr>\n",
       "    <tr>\n",
       "      <th>...</th>\n",
       "      <td>...</td>\n",
       "      <td>...</td>\n",
       "    </tr>\n",
       "    <tr>\n",
       "      <th>3022</th>\n",
       "      <td>3022.0</td>\n",
       "      <td>40.7760</td>\n",
       "    </tr>\n",
       "    <tr>\n",
       "      <th>3023</th>\n",
       "      <td>3023.0</td>\n",
       "      <td>40.7699</td>\n",
       "    </tr>\n",
       "    <tr>\n",
       "      <th>3024</th>\n",
       "      <td>3024.0</td>\n",
       "      <td>40.7700</td>\n",
       "    </tr>\n",
       "    <tr>\n",
       "      <th>3025</th>\n",
       "      <td>3025.0</td>\n",
       "      <td>40.7802</td>\n",
       "    </tr>\n",
       "    <tr>\n",
       "      <th>3026</th>\n",
       "      <td>3026.0</td>\n",
       "      <td>40.7802</td>\n",
       "    </tr>\n",
       "    <tr>\n",
       "      <th>3027</th>\n",
       "      <td>3027.0</td>\n",
       "      <td>40.7794</td>\n",
       "    </tr>\n",
       "    <tr>\n",
       "      <th>3028</th>\n",
       "      <td>3028.0</td>\n",
       "      <td>40.7793</td>\n",
       "    </tr>\n",
       "    <tr>\n",
       "      <th>3029</th>\n",
       "      <td>3029.0</td>\n",
       "      <td>40.7795</td>\n",
       "    </tr>\n",
       "    <tr>\n",
       "      <th>3030</th>\n",
       "      <td>3030.0</td>\n",
       "      <td>40.7706</td>\n",
       "    </tr>\n",
       "    <tr>\n",
       "      <th>3031</th>\n",
       "      <td>3031.0</td>\n",
       "      <td>40.7705</td>\n",
       "    </tr>\n",
       "    <tr>\n",
       "      <th>3032</th>\n",
       "      <td>3032.0</td>\n",
       "      <td>40.7703</td>\n",
       "    </tr>\n",
       "    <tr>\n",
       "      <th>3033</th>\n",
       "      <td>3033.0</td>\n",
       "      <td>40.7765</td>\n",
       "    </tr>\n",
       "    <tr>\n",
       "      <th>3034</th>\n",
       "      <td>3034.0</td>\n",
       "      <td>40.7764</td>\n",
       "    </tr>\n",
       "    <tr>\n",
       "      <th>3035</th>\n",
       "      <td>3035.0</td>\n",
       "      <td>40.7800</td>\n",
       "    </tr>\n",
       "    <tr>\n",
       "      <th>3036</th>\n",
       "      <td>3036.0</td>\n",
       "      <td>40.7700</td>\n",
       "    </tr>\n",
       "    <tr>\n",
       "      <th>3037</th>\n",
       "      <td>3037.0</td>\n",
       "      <td>40.7701</td>\n",
       "    </tr>\n",
       "    <tr>\n",
       "      <th>3038</th>\n",
       "      <td>3038.0</td>\n",
       "      <td>40.7806</td>\n",
       "    </tr>\n",
       "    <tr>\n",
       "      <th>3039</th>\n",
       "      <td>3039.0</td>\n",
       "      <td>40.7757</td>\n",
       "    </tr>\n",
       "    <tr>\n",
       "      <th>3040</th>\n",
       "      <td>3040.0</td>\n",
       "      <td>40.7756</td>\n",
       "    </tr>\n",
       "    <tr>\n",
       "      <th>3041</th>\n",
       "      <td>3041.0</td>\n",
       "      <td>40.7796</td>\n",
       "    </tr>\n",
       "    <tr>\n",
       "      <th>3042</th>\n",
       "      <td>3042.0</td>\n",
       "      <td>40.7793</td>\n",
       "    </tr>\n",
       "    <tr>\n",
       "      <th>3043</th>\n",
       "      <td>3043.0</td>\n",
       "      <td>40.7805</td>\n",
       "    </tr>\n",
       "    <tr>\n",
       "      <th>3044</th>\n",
       "      <td>3044.0</td>\n",
       "      <td>40.7804</td>\n",
       "    </tr>\n",
       "    <tr>\n",
       "      <th>3045</th>\n",
       "      <td>3045.0</td>\n",
       "      <td>40.7799</td>\n",
       "    </tr>\n",
       "    <tr>\n",
       "      <th>3046</th>\n",
       "      <td>3046.0</td>\n",
       "      <td>40.7797</td>\n",
       "    </tr>\n",
       "    <tr>\n",
       "      <th>3047</th>\n",
       "      <td>3047.0</td>\n",
       "      <td>40.7795</td>\n",
       "    </tr>\n",
       "    <tr>\n",
       "      <th>3048</th>\n",
       "      <td>3048.0</td>\n",
       "      <td>40.7802</td>\n",
       "    </tr>\n",
       "    <tr>\n",
       "      <th>3049</th>\n",
       "      <td>3049.0</td>\n",
       "      <td>40.7801</td>\n",
       "    </tr>\n",
       "    <tr>\n",
       "      <th>3050</th>\n",
       "      <td>3050.0</td>\n",
       "      <td>40.7801</td>\n",
       "    </tr>\n",
       "    <tr>\n",
       "      <th>3051</th>\n",
       "      <td>3051.0</td>\n",
       "      <td>40.7800</td>\n",
       "    </tr>\n",
       "  </tbody>\n",
       "</table>\n",
       "<p>3053 rows × 2 columns</p>\n",
       "</div>"
      ],
      "text/plain": [
       "         latitude  longitude\n",
       "cluster                     \n",
       "-1           -1.0    40.7464\n",
       " 0            0.0     0.0000\n",
       " 1            1.0    40.7128\n",
       " 2            2.0    40.7179\n",
       " 3            3.0    40.7211\n",
       " 4            4.0    40.7182\n",
       " 5            5.0    40.7183\n",
       " 6            6.0    40.7169\n",
       " 7            7.0    40.7166\n",
       " 8            8.0    40.7202\n",
       " 9            9.0    40.7160\n",
       " 10          10.0    40.7170\n",
       " 11          11.0    40.7166\n",
       " 12          12.0    40.7243\n",
       " 13          13.0    40.7236\n",
       " 14          14.0    40.7196\n",
       " 15          15.0    40.7191\n",
       " 16          16.0    40.7162\n",
       " 17          17.0    40.7154\n",
       " 18          18.0    40.7067\n",
       " 19          19.0    40.7066\n",
       " 20          20.0    40.7077\n",
       " 21          21.0    40.7073\n",
       " 22          22.0    40.7091\n",
       " 23          23.0    40.7098\n",
       " 24          24.0    40.7113\n",
       " 25          25.0    40.7109\n",
       " 26          26.0    40.7114\n",
       " 27          27.0    40.7085\n",
       " 28          28.0    40.7091\n",
       "...           ...        ...\n",
       " 3022      3022.0    40.7760\n",
       " 3023      3023.0    40.7699\n",
       " 3024      3024.0    40.7700\n",
       " 3025      3025.0    40.7802\n",
       " 3026      3026.0    40.7802\n",
       " 3027      3027.0    40.7794\n",
       " 3028      3028.0    40.7793\n",
       " 3029      3029.0    40.7795\n",
       " 3030      3030.0    40.7706\n",
       " 3031      3031.0    40.7705\n",
       " 3032      3032.0    40.7703\n",
       " 3033      3033.0    40.7765\n",
       " 3034      3034.0    40.7764\n",
       " 3035      3035.0    40.7800\n",
       " 3036      3036.0    40.7700\n",
       " 3037      3037.0    40.7701\n",
       " 3038      3038.0    40.7806\n",
       " 3039      3039.0    40.7757\n",
       " 3040      3040.0    40.7756\n",
       " 3041      3041.0    40.7796\n",
       " 3042      3042.0    40.7793\n",
       " 3043      3043.0    40.7805\n",
       " 3044      3044.0    40.7804\n",
       " 3045      3045.0    40.7799\n",
       " 3046      3046.0    40.7797\n",
       " 3047      3047.0    40.7795\n",
       " 3048      3048.0    40.7802\n",
       " 3049      3049.0    40.7801\n",
       " 3050      3050.0    40.7801\n",
       " 3051      3051.0    40.7800\n",
       "\n",
       "[3053 rows x 2 columns]"
      ]
     },
     "execution_count": 34,
     "metadata": {},
     "output_type": "execute_result"
    }
   ],
   "source": [
    "train2[['cluster','latitude','longitude']].groupby('cluster')['latitude','longitude'].agg(lambda x: _get_centermost_point(x.values))"
   ]
  },
  {
   "cell_type": "code",
   "execution_count": 9,
   "metadata": {
    "ExecuteTime": {
     "end_time": "2017-02-25T13:32:36.488145",
     "start_time": "2017-02-25T13:32:36.486340"
    },
    "collapsed": true
   },
   "outputs": [],
   "source": [
    "from hdbscan import approximate_predict"
   ]
  },
  {
   "cell_type": "code",
   "execution_count": 21,
   "metadata": {
    "ExecuteTime": {
     "end_time": "2017-02-25T13:52:16.848595",
     "start_time": "2017-02-25T13:51:35.315023"
    },
    "collapsed": false
   },
   "outputs": [
    {
     "name": "stderr",
     "output_type": "stream",
     "text": [
      "/usr/lib/python3.6/site-packages/hdbscan/prediction.py:187: RuntimeWarning: divide by zero encountered in double_scalars\n",
      "  lambda_ = 1. / mr_distances[nn_index]\n",
      "/usr/lib/python3.6/site-packages/hdbscan/prediction.py:319: RuntimeWarning: invalid value encountered in double_scalars\n",
      "  prob = (lambda_ / max_lambda)\n"
     ]
    }
   ],
   "source": [
    "a = approximate_predict(db,coords_test)"
   ]
  },
  {
   "cell_type": "code",
   "execution_count": 22,
   "metadata": {
    "ExecuteTime": {
     "end_time": "2017-02-25T13:52:30.696393",
     "start_time": "2017-02-25T13:52:30.693255"
    },
    "collapsed": false
   },
   "outputs": [
    {
     "data": {
      "text/plain": [
       "(74659,)"
      ]
     },
     "execution_count": 22,
     "metadata": {},
     "output_type": "execute_result"
    }
   ],
   "source": [
    "a[0].shape"
   ]
  },
  {
   "cell_type": "code",
   "execution_count": 17,
   "metadata": {
    "ExecuteTime": {
     "end_time": "2017-02-25T13:41:31.362886",
     "start_time": "2017-02-25T13:41:31.359823"
    },
    "collapsed": false
   },
   "outputs": [
    {
     "data": {
      "text/plain": [
       "array([ True, False, False, ..., False, False, False], dtype=bool)"
      ]
     },
     "execution_count": 17,
     "metadata": {},
     "output_type": "execute_result"
    }
   ],
   "source": [
    "a[1]==1"
   ]
  },
  {
   "cell_type": "code",
   "execution_count": null,
   "metadata": {
    "collapsed": true
   },
   "outputs": [],
   "source": []
  }
 ],
 "metadata": {
  "kernelspec": {
   "display_name": "Python 3",
   "language": "python",
   "name": "python3"
  },
  "language_info": {
   "codemirror_mode": {
    "name": "ipython",
    "version": 3
   },
   "file_extension": ".py",
   "mimetype": "text/x-python",
   "name": "python",
   "nbconvert_exporter": "python",
   "pygments_lexer": "ipython3",
   "version": "3.6.0"
  }
 },
 "nbformat": 4,
 "nbformat_minor": 2
}
